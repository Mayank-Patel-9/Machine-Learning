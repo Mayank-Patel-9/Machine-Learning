{
  "nbformat": 4,
  "nbformat_minor": 0,
  "metadata": {
    "colab": {
      "provenance": [],
      "authorship_tag": "ABX9TyMd4a3JdcyPUnEVot95x8rS",
      "include_colab_link": true
    },
    "kernelspec": {
      "name": "python3",
      "display_name": "Python 3"
    },
    "language_info": {
      "name": "python"
    }
  },
  "cells": [
    {
      "cell_type": "markdown",
      "metadata": {
        "id": "view-in-github",
        "colab_type": "text"
      },
      "source": [
        "<a href=\"https://colab.research.google.com/github/Mayank-Patel-9/Machine-Learning/blob/main/Import_Export_Data.ipynb\" target=\"_parent\"><img src=\"https://colab.research.google.com/assets/colab-badge.svg\" alt=\"Open In Colab\"/></a>"
      ]
    },
    {
      "cell_type": "code",
      "execution_count": null,
      "metadata": {
        "colab": {
          "base_uri": "https://localhost:8080/"
        },
        "id": "izeZUKfjWUul",
        "outputId": "e06d913a-ee90-41f4-e333-f769f99f6a5e"
      },
      "outputs": [
        {
          "output_type": "stream",
          "name": "stdout",
          "text": [
            "Data Overview:\n",
            "   Order ID Product  Sales Amount\n",
            "0         1       A           100\n",
            "1         2       B           150\n",
            "2         3       C           250\n",
            "3         4       D           500\n",
            "4         5       E           175\n"
          ]
        }
      ],
      "source": [
        "import pandas as pd\n",
        "\n",
        "df = pd.read_csv('/content/Sales_data.csv')\n",
        "\n",
        "print(\"Data Overview:\")\n",
        "print(df.head())\n"
      ]
    },
    {
      "cell_type": "code",
      "source": [
        "df['Sales Tax'] = df['Sales Amount'] * 0.10\n",
        "\n",
        "output_file_path = 'updated_sales_data.csv'\n",
        "df.to_csv(output_file_path, index=False)\n",
        "\n",
        "Updated_Output = pd.read_csv('updated_sales_data.csv')\n",
        "print(Updated_Output.head())\n",
        "\n",
        "print(f\"Updated data exported to {output_file_path}\")\n"
      ],
      "metadata": {
        "colab": {
          "base_uri": "https://localhost:8080/"
        },
        "id": "mcAWxBNEaYaF",
        "outputId": "a11a27d4-9730-4968-f736-5a47e0dabd27"
      },
      "execution_count": null,
      "outputs": [
        {
          "output_type": "stream",
          "name": "stdout",
          "text": [
            "   Order ID Product  Sales Amount  Sales Tax\n",
            "0         1       A           100       10.0\n",
            "1         2       B           150       15.0\n",
            "2         3       C           250       25.0\n",
            "3         4       D           500       50.0\n",
            "4         5       E           175       17.5\n",
            "Updated data exported to updated_sales_data.csv\n"
          ]
        }
      ]
    }
  ]
}