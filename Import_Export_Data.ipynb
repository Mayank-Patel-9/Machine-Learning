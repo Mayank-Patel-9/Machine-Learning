{
  "nbformat": 4,
  "nbformat_minor": 0,
  "metadata": {
    "colab": {
      "provenance": [],
      "authorship_tag": "ABX9TyMPxpSkusxmdg617FH47CsO",
      "include_colab_link": true
    },
    "kernelspec": {
      "name": "python3",
      "display_name": "Python 3"
    },
    "language_info": {
      "name": "python"
    }
  },
  "cells": [
    {
      "cell_type": "markdown",
      "metadata": {
        "id": "view-in-github",
        "colab_type": "text"
      },
      "source": [
        "<a href=\"https://colab.research.google.com/github/Mayank-Patel-9/Machine-Learning/blob/main/Import_Export_Data.ipynb\" target=\"_parent\"><img src=\"https://colab.research.google.com/assets/colab-badge.svg\" alt=\"Open In Colab\"/></a>"
      ]
    },
    {
      "cell_type": "code",
      "execution_count": null,
      "metadata": {
        "id": "izeZUKfjWUul"
      },
      "outputs": [],
      "source": [
        "import pandas as pd\n",
        "\n",
        "file_path = 'sales_data.csv'\n",
        "\n",
        "df = pd.read_csv(file_path)\n",
        "\n",
        "print(\"Data Overview:\")\n",
        "print(df.head())\n",
        "\n",
        "df['Sales Tax'] = df['Sales Amount'] * 0.10\n",
        "\n",
        "output_file_path = 'updated_sales_data.csv'\n",
        "df.to_csv(output_file_path, index=False)\n",
        "\n",
        "print(f\"Updated data exported to {output_file_path}\")\n"
      ]
    }
  ]
}